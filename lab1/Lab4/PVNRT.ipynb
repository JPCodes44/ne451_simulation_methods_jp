{
 "cells": [
  {
   "cell_type": "code",
   "execution_count": 74,
   "id": "dec1a4e4-da59-4c5d-b2ab-b1fb1a63e7da",
   "metadata": {},
   "outputs": [],
   "source": [
    "from ase import Atoms\n",
    "from ase.build import bulk\n",
    "from ase.io import write"
   ]
  },
  {
   "cell_type": "markdown",
   "id": "12263146",
   "metadata": {},
   "source": [
    "# Make the Argon FCC Lattice"
   ]
  },
  {
   "cell_type": "code",
   "execution_count": 75,
   "id": "a214e3e3-c5d0-4fcd-ba51-8bb8c3671381",
   "metadata": {},
   "outputs": [],
   "source": [
    "lattice_constant = 5.26"
   ]
  },
  {
   "cell_type": "code",
   "execution_count": 76,
   "id": "b4a72233-016a-4051-bb59-2943ff649c4b",
   "metadata": {},
   "outputs": [],
   "source": [
    "# Bulk argon structure\n",
    "atoms = bulk('Ar', 'fcc', a=lattice_constant, cubic=True)\n",
    "\n",
    "supercell = atoms.repeat((8, 8, 8))\n",
    "\n",
    "write('Ar.data', supercell, format='lammps-data')"
   ]
  },
  {
   "cell_type": "code",
   "execution_count": 77,
   "id": "64609aef",
   "metadata": {},
   "outputs": [],
   "source": [
    "# Define Simulation Parameters"
   ]
  },
  {
   "cell_type": "code",
   "execution_count": 78,
   "id": "51067422",
   "metadata": {},
   "outputs": [],
   "source": [
    "# Define Variables\n",
    "N = 256\n",
    "kb = 1.380649e-23\n",
    "\n",
    "# Conversions\n",
    "atmToPascal = 101325\n",
    "angstrom3Tom3 = 1e-30\n",
    "\n",
    "# Calculation Variables\n",
    "totalSteps = 100000\n",
    "framesPerSave = 90\n",
    "\n",
    "RDF_Bins = 50\n",
    "\n",
    "PVNRT_sim_data = \"slurm-528.out\"\n",
    "RDF_sim_data = \"RDF_Sim5.data\"\n",
    "\n",
    "\n",
    "#PVNRT_Name_Sim2 = \"slurm-525.out\"\n",
    "#RDF_Name_Sim2 = \"RDF.data\""
   ]
  },
  {
   "cell_type": "markdown",
   "id": "e5953529",
   "metadata": {},
   "source": []
  },
  {
   "cell_type": "code",
   "execution_count": 79,
   "id": "8b55662f",
   "metadata": {},
   "outputs": [],
   "source": [
    "import pandas as pd\n",
    "import matplotlib.pyplot as plt\n",
    "from pathlib import Path\n",
    "from typing import List\n",
    "\n",
    "\n",
    "# --- If you already have your own read_TPVE_File, keep it and skip this stub. ---\n",
    "def read_TPVE_File(path: str, totalSteps: int, saveEveryNFrames: int) -> pd.DataFrame:\n",
    "    cols = [\"Step\", \"Temp\", \"Press\", \"Volume\", \"TotEng\"]\n",
    "    total_line_count = sum(1 for _ in open(path, \"r\"))\n",
    "    pvnrt_lines = totalSteps // saveEveryNFrames\n",
    "    skip_rows = max(0, total_line_count - pvnrt_lines - 28)\n",
    "    df = pd.read_csv(path, sep=r\"\\s+\", header=None, names=cols,\n",
    "                     skiprows=skip_rows, nrows=pvnrt_lines + 1, engine=\"python\")\n",
    "    return df\n",
    "# ----------\n",
    "\n",
    "def load_rdf_file(filepath: str, bins: int) -> List[pd.DataFrame]:\n",
    "    \"\"\"\n",
    "    Read an RDF output file from LAMMPS and return\n",
    "    a list of DataFrames, one per RDF snapshot.\n",
    "    \"\"\"\n",
    "\n",
    "    # Columns expected in each RDF block\n",
    "    col_names = [\"Bin\", \"r\", \"g_Ar-Ar\", \"coord_Ar-Ar\"]\n",
    "\n",
    "    file_path = Path(filepath)\n",
    "    if not file_path.exists():\n",
    "        raise FileNotFoundError(f\"Could not find RDF file: {filepath}\")\n",
    "\n",
    "    # Count total lines without loading whole file into memory\n",
    "    with file_path.open(\"r\") as fh:\n",
    "        total_lines = sum(1 for _ in fh)\n",
    "\n",
    "    # Number of RDF datasets in file\n",
    "    group_count = (total_lines - 5) // (bins + 1)\n",
    "\n",
    "    rdf_list: List[pd.DataFrame] = []\n",
    "\n",
    "    # Parse each RDF dataset\n",
    "    for group_idx in range(group_count + 1):\n",
    "        start_line = 4 + group_idx * (bins + 1)\n",
    "        rdf_block = pd.read_csv(\n",
    "            file_path,\n",
    "            sep=r\"\\s+\",\n",
    "            header=None,\n",
    "            names=col_names,\n",
    "            skiprows=start_line,\n",
    "            nrows=bins,\n",
    "            engine=\"python\"\n",
    "        )\n",
    "        if rdf_block.empty:\n",
    "            continue\n",
    "        rdf_list.append(rdf_block)\n",
    "\n",
    "    return rdf_list"
   ]
  },
  {
   "cell_type": "code",
   "execution_count": 80,
   "id": "54f34db7",
   "metadata": {},
   "outputs": [],
   "source": [
    "# Plotting Functions"
   ]
  },
  {
   "cell_type": "code",
   "execution_count": 81,
   "id": "aaf634cc",
   "metadata": {},
   "outputs": [],
   "source": [
    "import matplotlib.pyplot as plt\n",
    "import pandas as pd\n",
    "\n",
    "def show_rdf(single_df: pd.DataFrame, sim_info: str) -> None:\n",
    "    \"\"\"Plot RDF curve for one dataset.\"\"\"\n",
    "    plt.figure(figsize=(18, 14))\n",
    "    plt.plot(single_df[\"r\"], single_df[\"g_Ar-Ar\"], label=\"Ar–Ar RDF\")\n",
    "\n",
    "    plt.xlabel(\"Radius (Å)\")\n",
    "    plt.ylabel(\"g(r)\")\n",
    "    plt.title(f\"Radial Distribution Function for FCC Argon ({sim_info})\")\n",
    "    plt.legend()\n",
    "    plt.grid(True, linestyle=\"--\", linewidth=0.7)\n",
    "    plt.show()\n",
    "\n",
    "\n",
    "def compare_rdfs(list_of_dfs: list[pd.DataFrame], sim_info: str, labels: list[str]) -> None:\n",
    "    \"\"\"Overlay multiple RDF curves on the same plot.\"\"\"\n",
    "    plt.figure(figsize=(18, 14))\n",
    "    for df, lbl in zip(list_of_dfs, labels):\n",
    "        plt.plot(df[\"r\"], df[\"g_Ar-Ar\"], label=lbl)\n",
    "\n",
    "    plt.xlabel(\"Radius (Å)\")\n",
    "    plt.ylabel(\"g(r)\")\n",
    "    plt.title(f\"Comparison of RDFs for FCC Argon ({sim_info})\")\n",
    "    plt.legend()\n",
    "    plt.grid(True, linestyle=\"--\", linewidth=0.7)\n",
    "    plt.show()\n",
    "\n",
    "\n",
    "def plot_pv_minus_nkbt(thermo_df: pd.DataFrame, add_zero: bool = True) -> None:\n",
    "    \"\"\"Plot (PV – NkBT) vs simulation step.\"\"\"\n",
    "    plt.figure(figsize=(18, 14))\n",
    "\n",
    "    if add_zero:\n",
    "        plt.axhline(y=0.0, color=\"black\", linestyle=\"--\", linewidth=1)\n",
    "\n",
    "    steps = thermo_df[\"Step\"]\n",
    "    T = thermo_df[\"Temp\"]\n",
    "    P = thermo_df[\"Press\"] * atmToPascal\n",
    "    V = thermo_df[\"Volume\"] * angstrom3Tom3\n",
    "\n",
    "    pv = P * V\n",
    "    nkbt = N * kb * T\n",
    "    deviation = pv - nkbt\n",
    "\n",
    "    plt.plot(steps, deviation, label=\"Argon (PV – NkBT)\")\n",
    "    plt.xlabel(\"Simulation Step\")\n",
    "    plt.ylabel(\"Deviation from Ideal Gas Law\")\n",
    "    plt.title(\"PV – NkBT over NVT Argon FCC Simulation\")\n",
    "    plt.legend()\n",
    "    plt.grid(True, linestyle=\"--\", linewidth=0.7)\n",
    "    plt.show()\n"
   ]
  },
  {
   "cell_type": "markdown",
   "id": "9e318a42",
   "metadata": {},
   "source": [
    "# Plotting: PV - Nk_BT "
   ]
  }
 ],
 "metadata": {
  "kernelspec": {
   "display_name": "ne451_simulation_methods_jp",
   "language": "python",
   "name": "python3"
  },
  "language_info": {
   "codemirror_mode": {
    "name": "ipython",
    "version": 3
   },
   "file_extension": ".py",
   "mimetype": "text/x-python",
   "name": "python",
   "nbconvert_exporter": "python",
   "pygments_lexer": "ipython3",
   "version": "3.12.2"
  }
 },
 "nbformat": 4,
 "nbformat_minor": 5
}
